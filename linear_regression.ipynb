{
 "cells": [
  {
   "cell_type": "code",
   "execution_count": null,
   "id": "initial_id",
   "metadata": {
    "collapsed": true
   },
   "outputs": [],
   "source": [
    "import numpy as np\n",
    "import matplotlib.pyplot as plt\n",
    "import csv\n",
    "\n",
    "%matplotlib inline"
   ]
  },
  {
   "cell_type": "code",
   "outputs": [],
   "source": [
    "def read_csv(file_name):\n",
    "    with open(file_name) as csv_file:\n",
    "        csv_reader = csv.reader(csv_file, delimiter=',')\n",
    "        return np.delete(np.array(list(csv_reader)[1:], dtype=float), 0, 1)\n"
   ],
   "metadata": {
    "collapsed": false
   },
   "id": "45bbe8b8c85780fa",
   "execution_count": null
  },
  {
   "cell_type": "code",
   "outputs": [],
   "source": [
    "data = read_csv(\"./data/lab_1_train.csv\")\n",
    "train_x = data[:, 0]\n",
    "train_y = data[:, 1]\n",
    "\n",
    "data = read_csv(\"./data/lab_1_test.csv\")\n",
    "test_x = data[:, 0]\n",
    "test_y = data[:, 1]"
   ],
   "metadata": {
    "collapsed": false
   },
   "id": "6897ba9e9033ac99",
   "execution_count": null
  },
  {
   "cell_type": "code",
   "outputs": [],
   "source": [
    "class LinearRegression:\n",
    "    def __init__(self, x, y):\n",
    "        self.X = x\n",
    "        self.Y = y\n",
    "        self.B = [0, 0]\n",
    "\n",
    "    def update_weights(self, _alpha, pred):\n",
    "        m = len(self.Y)\n",
    "\n",
    "        self.B[1] = self.B[1] - _alpha * np.sum((pred - self.Y) * self.X) / m\n",
    "        self.B[0] = np.mean(self.Y) - self.B[1] * np.mean(self.X)\n",
    "\n",
    "    def predict(self, _x=None):\n",
    "        Y_pred = np.array([])\n",
    "\n",
    "        if _x is None:\n",
    "            _x = self.X\n",
    "\n",
    "        for x in _x:\n",
    "            Y_pred = np.append(Y_pred, self.B[0] + (self.B[1] * x))\n",
    "\n",
    "        return Y_pred\n",
    "\n",
    "    def compute_loss(self, y_pred):\n",
    "        m = len(self.Y)\n",
    "        J = np.sum(y_pred - self.Y) ** 2 / (2 * m)\n",
    "        return J\n",
    "\n",
    "    def plot_best_fit(self, y_pred, plot_name, _x=None, _y=None, _c='r'):\n",
    "        if _x is None:\n",
    "            _x = self.X\n",
    "\n",
    "        if _y is None:\n",
    "            _y = self.Y\n",
    "\n",
    "        plt.title(plot_name)\n",
    "        plt.scatter(_x, _y, color='b', s=20)\n",
    "        plt.plot(_x, y_pred, color=_c)\n",
    "        plt.show()\n",
    "\n",
    "    def b1(self):\n",
    "        return self.B[1]"
   ],
   "metadata": {
    "collapsed": false
   },
   "id": "fc394127c9b275f2",
   "execution_count": null
  },
  {
   "cell_type": "code",
   "outputs": [],
   "source": [
    "alpha = 0.01\n",
    "\n",
    "regressor = LinearRegression(train_x, train_y)\n",
    "\n",
    "for i in range(10000):\n",
    "    prediction = regressor.predict()\n",
    "    loss = regressor.compute_loss(prediction)\n",
    "    regressor.update_weights(alpha, prediction)\n",
    "\n",
    "    print(i + 1, \"epochs elapsed\")\n",
    "    print(f\"Current loss - weight: {loss:.2} - {regressor.b1():.3}\")\n",
    "\n",
    "regressor.plot_best_fit(prediction, \"Final Regression\")\n",
    "\n",
    "prediction = regressor.predict(test_x)\n",
    "regressor.plot_best_fit(prediction, \"Prediction\", test_x, test_y, 'g')"
   ],
   "metadata": {
    "collapsed": false
   },
   "id": "3a8247eee5dca0c5",
   "execution_count": null
  }
 ],
 "metadata": {
  "kernelspec": {
   "display_name": "Python 3",
   "language": "python",
   "name": "python3"
  },
  "language_info": {
   "codemirror_mode": {
    "name": "ipython",
    "version": 2
   },
   "file_extension": ".py",
   "mimetype": "text/x-python",
   "name": "python",
   "nbconvert_exporter": "python",
   "pygments_lexer": "ipython2",
   "version": "2.7.6"
  }
 },
 "nbformat": 4,
 "nbformat_minor": 5
}
